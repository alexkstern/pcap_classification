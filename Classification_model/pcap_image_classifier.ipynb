{
 "cells": [
  {
   "cell_type": "markdown",
   "metadata": {},
   "source": [
    "# Model Training"
   ]
  },
  {
   "cell_type": "markdown",
   "metadata": {},
   "source": [
    "## Setting up datasets"
   ]
  },
  {
   "cell_type": "markdown",
   "metadata": {
    "id": "ucgH1HOrqgVA"
   },
   "source": [
    "Make a df with the location of all files in drive, along with it's classification"
   ]
  },
  {
   "cell_type": "code",
   "execution_count": null,
   "metadata": {
    "colab": {
     "base_uri": "https://localhost:8080/",
     "height": 424
    },
    "id": "K_e7WBDKqffS",
    "outputId": "9d98159e-edff-4be8-ebc5-22528d5ec32f"
   },
   "outputs": [],
   "source": [
    "import os\n",
    "import pandas as pd\n",
    "\n",
    "#Put the path to the directories that contain your processed data. \n",
    "#The directory should be split into high and low priority\n",
    "dirs = [\n",
    "    \"sensor_pcap_classification/Data/Processed/BackdoorSensor\",\n",
    "    \"sensor_pcap_classification/Data/Processed/CO2Sensor\",\n",
    "    \"sensor_pcap_classification/Data/Processed/NoiseSensor\",\n",
    "    \"sensor_pcap_classification/Data/Processed/TempHumiditySensor\",\n",
    "    \"sensor_pcap_classification/Data/Processed/VibrationSensor\"]\n",
    "\n",
    "image_files = []\n",
    "classifications = []\n",
    "sensor_types = []\n",
    "\n",
    "# Iterate over the files in the additional directories\n",
    "for dir in dirs:\n",
    "    sensor_type = os.path.basename(dir)  # Extract the sensor type from the directory path\n",
    "    high_priority_dir = os.path.join(dir, \"high_pr\")\n",
    "    for file_name in os.listdir(high_priority_dir):\n",
    "        file_path = os.path.join(high_priority_dir, file_name)\n",
    "        image_files.append(file_path)\n",
    "        classifications.append(\"high\")\n",
    "        sensor_types.append(sensor_type)\n",
    "\n",
    "    low_priority_dir = os.path.join(dir, \"low_pr\")\n",
    "    for file_name in os.listdir(low_priority_dir):\n",
    "        file_path = os.path.join(low_priority_dir, file_name)\n",
    "        image_files.append(file_path)\n",
    "        classifications.append(\"low\")\n",
    "        sensor_types.append(sensor_type)\n",
    "\n",
    "# Create the DataFrame\n",
    "image_dataset = pd.DataFrame({\n",
    "    \"Image File\": image_files,\n",
    "    \"Classification\": classifications,\n",
    "    \"Sensor Type\": sensor_types  # Add the Sensor Type column\n",
    "})\n"
   ]
  },
  {
   "cell_type": "code",
   "execution_count": null,
   "metadata": {
    "colab": {
     "base_uri": "https://localhost:8080/",
     "height": 424
    },
    "id": "niNjYtdKyxK3",
    "outputId": "1a7530e4-fd79-4a91-da1b-fd6f34fdb9bb"
   },
   "outputs": [],
   "source": [
    "csv_file_path = \"sensor_pcap_classification/Classification_model/image_dataset_all.csv\"\n",
    "image_dataset.to_csv(csv_file_path)\n",
    "image_dataset_all= pd.read_csv(csv_file_path, index_col=0)\n",
    "image_dataset_all"
   ]
  },
  {
   "cell_type": "markdown",
   "metadata": {
    "id": "I-9CLt0l4TxX"
   },
   "source": [
    "A few trials were done, results found that the whole dataset wasn't needed for good results. Hence, we are taking a sample of the larger dataset."
   ]
  },
  {
   "cell_type": "code",
   "execution_count": 9,
   "metadata": {
    "id": "3dPhmRogMhX7"
   },
   "outputs": [],
   "source": [
    "import pandas as pd\n",
    "\n",
    "import pandas as pd\n",
    "\n",
    "# Group the image_dataset by \"Sensor Type\" and \"Classification\"\n",
    "grouped = image_dataset.groupby([\"Sensor Type\", \"Classification\"])\n",
    "\n",
    "# Function to sample 500 rows from each group\n",
    "def sample_rows(group):\n",
    "    return group.sample(n=500, random_state=42)\n",
    "\n",
    "# Sample 500 rows from each group and concatenate into one DataFrame\n",
    "sampled_dataset = pd.concat([sample_rows(group) for _, group in grouped])\n",
    "\n",
    "# Reset the index of the new DataFrame\n",
    "sampled_dataset = sampled_dataset.reset_index(drop=True)\n",
    "\n",
    "\n"
   ]
  },
  {
   "cell_type": "code",
   "execution_count": null,
   "metadata": {
    "colab": {
     "base_uri": "https://localhost:8080/",
     "height": 424
    },
    "id": "1rTDa-jCNUdc",
    "outputId": "1efd1356-0913-4676-dd92-a7410aed0bc7"
   },
   "outputs": [],
   "source": [
    "csv_file_path = \"sensor_pcap_classification/Classification_model/image_dataset_training.csv\"\n",
    "sampled_dataset.to_csv(csv_file_path)\n",
    "image_dataset= pd.read_csv(csv_file_path, index_col=0)\n",
    "image_dataset=image_dataset.reset_index(drop=True)\n",
    "image_dataset"
   ]
  },
  {
   "cell_type": "markdown",
   "metadata": {
    "id": "qoPfHIMKrlke"
   },
   "source": [
    "## Data preparation for training"
   ]
  },
  {
   "cell_type": "code",
   "execution_count": 11,
   "metadata": {
    "colab": {
     "base_uri": "https://localhost:8080/"
    },
    "id": "EBE7RnQewZOh",
    "outputId": "fc599b0b-6778-42f3-dc2d-16fdab75f22e"
   },
   "outputs": [
    {
     "name": "stdout",
     "output_type": "stream",
     "text": [
      "Collecting timm\n",
      "  Downloading timm-0.9.2-py3-none-any.whl (2.2 MB)\n",
      "\u001b[2K     \u001b[90m━━━━━━━━━━━━━━━━━━━━━━━━━━━━━━━━━━━━━━━━\u001b[0m \u001b[32m2.2/2.2 MB\u001b[0m \u001b[31m17.6 MB/s\u001b[0m eta \u001b[36m0:00:00\u001b[0ma \u001b[36m0:00:01\u001b[0m\n",
      "\u001b[?25hRequirement already satisfied: torch>=1.7 in /usr/local/lib/python3.10/dist-packages (from timm) (2.0.1+cu118)\n",
      "Requirement already satisfied: torchvision in /usr/local/lib/python3.10/dist-packages (from timm) (0.15.2+cu118)\n",
      "Requirement already satisfied: pyyaml in /usr/local/lib/python3.10/dist-packages (from timm) (6.0.1)\n",
      "Collecting huggingface-hub (from timm)\n",
      "  Downloading huggingface_hub-0.16.4-py3-none-any.whl (268 kB)\n",
      "\u001b[2K     \u001b[90m━━━━━━━━━━━━━━━━━━━━━━━━━━━━━━━━━━━━━━\u001b[0m \u001b[32m268.8/268.8 kB\u001b[0m \u001b[31m32.5 MB/s\u001b[0m eta \u001b[36m0:00:00\u001b[0m\n",
      "\u001b[?25hCollecting safetensors (from timm)\n",
      "  Downloading safetensors-0.3.1-cp310-cp310-manylinux_2_17_x86_64.manylinux2014_x86_64.whl (1.3 MB)\n",
      "\u001b[2K     \u001b[90m━━━━━━━━━━━━━━━━━━━━━━━━━━━━━━━━━━━━━━━━\u001b[0m \u001b[32m1.3/1.3 MB\u001b[0m \u001b[31m73.5 MB/s\u001b[0m eta \u001b[36m0:00:00\u001b[0m\n",
      "\u001b[?25hRequirement already satisfied: filelock in /usr/local/lib/python3.10/dist-packages (from torch>=1.7->timm) (3.12.2)\n",
      "Requirement already satisfied: typing-extensions in /usr/local/lib/python3.10/dist-packages (from torch>=1.7->timm) (4.7.1)\n",
      "Requirement already satisfied: sympy in /usr/local/lib/python3.10/dist-packages (from torch>=1.7->timm) (1.11.1)\n",
      "Requirement already satisfied: networkx in /usr/local/lib/python3.10/dist-packages (from torch>=1.7->timm) (3.1)\n",
      "Requirement already satisfied: jinja2 in /usr/local/lib/python3.10/dist-packages (from torch>=1.7->timm) (3.1.2)\n",
      "Requirement already satisfied: triton==2.0.0 in /usr/local/lib/python3.10/dist-packages (from torch>=1.7->timm) (2.0.0)\n",
      "Requirement already satisfied: cmake in /usr/local/lib/python3.10/dist-packages (from triton==2.0.0->torch>=1.7->timm) (3.25.2)\n",
      "Requirement already satisfied: lit in /usr/local/lib/python3.10/dist-packages (from triton==2.0.0->torch>=1.7->timm) (16.0.6)\n",
      "Requirement already satisfied: fsspec in /usr/local/lib/python3.10/dist-packages (from huggingface-hub->timm) (2023.6.0)\n",
      "Requirement already satisfied: requests in /usr/local/lib/python3.10/dist-packages (from huggingface-hub->timm) (2.27.1)\n",
      "Requirement already satisfied: tqdm>=4.42.1 in /usr/local/lib/python3.10/dist-packages (from huggingface-hub->timm) (4.65.0)\n",
      "Requirement already satisfied: packaging>=20.9 in /usr/local/lib/python3.10/dist-packages (from huggingface-hub->timm) (23.1)\n",
      "Requirement already satisfied: numpy in /usr/local/lib/python3.10/dist-packages (from torchvision->timm) (1.22.4)\n",
      "Requirement already satisfied: pillow!=8.3.*,>=5.3.0 in /usr/local/lib/python3.10/dist-packages (from torchvision->timm) (9.4.0)\n",
      "Requirement already satisfied: MarkupSafe>=2.0 in /usr/local/lib/python3.10/dist-packages (from jinja2->torch>=1.7->timm) (2.1.3)\n",
      "Requirement already satisfied: urllib3<1.27,>=1.21.1 in /usr/local/lib/python3.10/dist-packages (from requests->huggingface-hub->timm) (1.26.16)\n",
      "Requirement already satisfied: certifi>=2017.4.17 in /usr/local/lib/python3.10/dist-packages (from requests->huggingface-hub->timm) (2023.7.22)\n",
      "Requirement already satisfied: charset-normalizer~=2.0.0 in /usr/local/lib/python3.10/dist-packages (from requests->huggingface-hub->timm) (2.0.12)\n",
      "Requirement already satisfied: idna<4,>=2.5 in /usr/local/lib/python3.10/dist-packages (from requests->huggingface-hub->timm) (3.4)\n",
      "Requirement already satisfied: mpmath>=0.19 in /usr/local/lib/python3.10/dist-packages (from sympy->torch>=1.7->timm) (1.3.0)\n",
      "Installing collected packages: safetensors, huggingface-hub, timm\n",
      "Successfully installed huggingface-hub-0.16.4 safetensors-0.3.1 timm-0.9.2\n"
     ]
    }
   ],
   "source": [
    "!pip install timm"
   ]
  },
  {
   "cell_type": "code",
   "execution_count": 12,
   "metadata": {
    "id": "4gXQ3YLArXrr"
   },
   "outputs": [],
   "source": [
    "import os\n",
    "import torch\n",
    "import torchvision.transforms as transforms\n",
    "from torch.utils.data import DataLoader\n",
    "from timm import create_model\n",
    "from PIL import Image\n",
    "import pandas as pd\n",
    "from sklearn.model_selection import train_test_split\n",
    "\n",
    "# Set the device for training\n",
    "device = torch.device(\"cuda\" if torch.cuda.is_available() else \"cpu\")\n",
    "\n",
    "# Define the transform for preprocessing the images\n",
    "transform = transforms.Compose([\n",
    "    transforms.ToTensor(),\n",
    "    transforms.Normalize(mean=[0.485, 0.456, 0.406], std=[0.229, 0.224, 0.225])\n",
    "])\n",
    "\n",
    "# Load your dataset CSV file\n",
    "df = image_dataset\n",
    "\n",
    "# Separate high and low classified images\n",
    "high_classified = df[df[\"Classification\"] == \"high\"]\n",
    "low_classified = df[df[\"Classification\"] == \"low\"]\n",
    "\n",
    "# Split high and low classified images into train, validation, and test sets while maintaining the same ratio\n",
    "train_high, valtest_high = train_test_split(high_classified, test_size=0.2, random_state=42, stratify=high_classified[\"Sensor Type\"])\n",
    "val_high, test_high = train_test_split(valtest_high, test_size=0.5, random_state=42, stratify=valtest_high[\"Sensor Type\"])\n",
    "\n",
    "train_low, valtest_low = train_test_split(low_classified, test_size=0.2, random_state=42, stratify=low_classified[\"Sensor Type\"])\n",
    "val_low, test_low = train_test_split(valtest_low, test_size=0.5, random_state=42, stratify=valtest_low[\"Sensor Type\"])\n",
    "\n",
    "# Concatenate high and low classified images for each dataset\n",
    "train_df = pd.concat([train_high, train_low], ignore_index=True)\n",
    "val_df = pd.concat([val_high, val_low], ignore_index=True)\n",
    "test_df = pd.concat([test_high, test_low], ignore_index=True)\n",
    "\n",
    "# Define the custom dataset class\n",
    "class CustomDataset(torch.utils.data.Dataset):\n",
    "    def __init__(self, dataframe, transform=None):\n",
    "        self.data = dataframe\n",
    "        self.transform = transform\n",
    "\n",
    "    def __len__(self):\n",
    "        return len(self.data)\n",
    "\n",
    "    def __getitem__(self, index):\n",
    "        image_path = self.data.iloc[index][\"Image File\"]\n",
    "        image = Image.open(image_path)\n",
    "\n",
    "        if self.transform:\n",
    "            image = self.transform(image)\n",
    "\n",
    "        label = self.data.iloc[index][\"Classification\"]\n",
    "        label = 1 if label == \"high\" else 0\n",
    "\n",
    "        return image, label\n",
    "\n",
    "# Create custom datasets for training, validation, and test\n",
    "train_dataset = CustomDataset(train_df, transform=transform)\n",
    "val_dataset = CustomDataset(val_df, transform=transform)\n",
    "test_dataset = CustomDataset(test_df, transform=transform)\n",
    "\n",
    "# Create data loaders\n",
    "batch_size = 32\n",
    "train_loader = DataLoader(train_dataset, batch_size=batch_size, shuffle=True)\n",
    "val_loader = DataLoader(val_dataset, batch_size=batch_size, shuffle=False)\n",
    "test_loader = DataLoader(test_dataset, batch_size=batch_size, shuffle=False)\n"
   ]
  },
  {
   "cell_type": "markdown",
   "metadata": {
    "id": "jMOfoG3yr5dD"
   },
   "source": [
    "## Model Training"
   ]
  },
  {
   "cell_type": "code",
   "execution_count": 13,
   "metadata": {
    "colab": {
     "base_uri": "https://localhost:8080/",
     "height": 223,
     "referenced_widgets": [
      "833c65752bec4facbc9d314758158c41",
      "5e1e9582ffd1438ba11cee280b8ee948",
      "ca42de3efdb9414b888c8b2676ff7248",
      "e41884a7af124acf9b541681b2e0ba2e",
      "3fd9f68f1cc0450a8af2386626ed4e1c",
      "4aa61d41c6664916bfcf7d490e80d98c",
      "1f4f5690c82f4ec49b5f308c30ae8f25",
      "48b9e535ad0d4723af66e0f3369b1fc3",
      "ab060ab1fc97403a819033f36888886b",
      "ec77487e865944d9aaa117f2dd673a6d",
      "39b709a0f26b4525a48cd21e6a939989"
     ]
    },
    "id": "JROwi84OYvgY",
    "outputId": "e85ee077-0830-4efb-dc9d-71c09deaa115"
   },
   "outputs": [
    {
     "data": {
      "application/vnd.jupyter.widget-view+json": {
       "model_id": "833c65752bec4facbc9d314758158c41",
       "version_major": 2,
       "version_minor": 0
      },
      "text/plain": [
       "Downloading model.safetensors:   0%|          | 0.00/46.8M [00:00<?, ?B/s]"
      ]
     },
     "metadata": {},
     "output_type": "display_data"
    },
    {
     "name": "stderr",
     "output_type": "stream",
     "text": [
      "Epoch 1/5: 100%|██████████| 125/125 [53:32<00:00, 25.70s/batch, loss=0.0614]\n"
     ]
    },
    {
     "name": "stdout",
     "output_type": "stream",
     "text": [
      "Epoch [1/5] - Train Loss: 0.1462 - Val Accuracy: 0.9400 - Val F1 Score: 0.9362\n"
     ]
    },
    {
     "name": "stderr",
     "output_type": "stream",
     "text": [
      "Epoch 2/5: 100%|██████████| 125/125 [00:14<00:00,  8.88batch/s, loss=0.0143]\n"
     ]
    },
    {
     "name": "stdout",
     "output_type": "stream",
     "text": [
      "Epoch [2/5] - Train Loss: 0.0383 - Val Accuracy: 0.9400 - Val F1 Score: 0.9362\n"
     ]
    },
    {
     "name": "stderr",
     "output_type": "stream",
     "text": [
      "Epoch 3/5: 100%|██████████| 125/125 [00:13<00:00,  9.01batch/s, loss=0.0109]\n"
     ]
    },
    {
     "name": "stdout",
     "output_type": "stream",
     "text": [
      "Epoch [3/5] - Train Loss: 0.0312 - Val Accuracy: 1.0000 - Val F1 Score: 1.0000\n"
     ]
    },
    {
     "name": "stderr",
     "output_type": "stream",
     "text": [
      "Epoch 4/5: 100%|██████████| 125/125 [00:14<00:00,  8.92batch/s, loss=0.00377]\n"
     ]
    },
    {
     "name": "stdout",
     "output_type": "stream",
     "text": [
      "Epoch [4/5] - Train Loss: 0.0309 - Val Accuracy: 0.7660 - Val F1 Score: 0.6945\n"
     ]
    },
    {
     "name": "stderr",
     "output_type": "stream",
     "text": [
      "Epoch 5/5: 100%|██████████| 125/125 [00:14<00:00,  8.81batch/s, loss=0.000579]\n"
     ]
    },
    {
     "name": "stdout",
     "output_type": "stream",
     "text": [
      "Epoch [5/5] - Train Loss: 0.0370 - Val Accuracy: 0.9920 - Val F1 Score: 0.9920\n"
     ]
    }
   ],
   "source": [
    "import torch\n",
    "import torch.nn as nn\n",
    "import torch.optim as optim\n",
    "from tqdm import tqdm\n",
    "from sklearn.metrics import accuracy_score, f1_score, confusion_matrix\n",
    "import numpy as np\n",
    "\n",
    "# Define the model\n",
    "model_name = \"resnet18\"  # Replace with the desired model architecture\n",
    "num_classes = 2\n",
    "model = create_model(model_name, pretrained=True, num_classes=num_classes).to(device)\n",
    "\n",
    "# Define the loss function and optimizer\n",
    "criterion = nn.CrossEntropyLoss()\n",
    "optimizer = optim.Adam(model.parameters(), lr=0.001)\n",
    "\n",
    "# Training loop\n",
    "num_epochs = 5\n",
    "best_accuracy = 0.0\n",
    "\n",
    "for epoch in range(num_epochs):\n",
    "    model.train()\n",
    "    train_loss = 0.0\n",
    "\n",
    "    with tqdm(total=len(train_loader), desc=f\"Epoch {epoch+1}/{num_epochs}\", unit=\"batch\") as pbar:\n",
    "        for images, labels in train_loader:\n",
    "            images = images.to(device)\n",
    "            labels = labels.to(device)\n",
    "\n",
    "            optimizer.zero_grad()\n",
    "\n",
    "            outputs = model(images)\n",
    "            loss = criterion(outputs, labels)\n",
    "            loss.backward()\n",
    "            optimizer.step()\n",
    "\n",
    "            train_loss += loss.item() * images.size(0)\n",
    "\n",
    "            pbar.set_postfix(loss=loss.item())\n",
    "            pbar.update()\n",
    "\n",
    "    # Calculate average train loss\n",
    "    train_loss = train_loss / len(train_dataset)\n",
    "\n",
    "    # Evaluation on the validation set\n",
    "    model.eval()\n",
    "    val_accuracy = 0.0\n",
    "    val_predictions = []\n",
    "    val_targets = []\n",
    "\n",
    "    with torch.no_grad():\n",
    "        for images, labels in val_loader:\n",
    "            images = images.to(device)\n",
    "            labels = labels.to(device)\n",
    "\n",
    "            outputs = model(images)\n",
    "            _, predicted = torch.max(outputs.data, 1)\n",
    "\n",
    "            val_accuracy += accuracy_score(predicted.cpu(), labels.cpu()) * images.size(0)\n",
    "            val_predictions.extend(predicted.cpu().numpy())\n",
    "            val_targets.extend(labels.cpu().numpy())\n",
    "\n",
    "    # Calculate average validation accuracy\n",
    "    val_accuracy = val_accuracy / len(val_dataset)\n",
    "\n",
    "    # Calculate F1 score\n",
    "    val_f1 = f1_score(val_targets, val_predictions)\n",
    "\n",
    "    # Print training progress\n",
    "    print(f\"Epoch [{epoch+1}/{num_epochs}] - Train Loss: {train_loss:.4f} - Val Accuracy: {val_accuracy:.4f} - Val F1 Score: {val_f1:.4f}\")\n",
    "\n",
    "    # Save the model with the best validation accuracy\n",
    "    if val_accuracy > best_accuracy:\n",
    "        best_accuracy = val_accuracy\n",
    "        torch.save(model.state_dict(), \"sensor_pcap_classification/Classification_model/main_pcap_classification_model.pth\")\n"
   ]
  },
  {
   "cell_type": "markdown",
   "metadata": {
    "id": "0jO8xc19sBMl"
   },
   "source": [
    "## Model Evaluation"
   ]
  },
  {
   "cell_type": "code",
   "execution_count": 14,
   "metadata": {
    "colab": {
     "base_uri": "https://localhost:8080/"
    },
    "id": "ocxXuH39azEn",
    "outputId": "d4aa2593-238f-4df2-d3c2-89f00af6faa1"
   },
   "outputs": [
    {
     "name": "stdout",
     "output_type": "stream",
     "text": [
      "Confusion Matrix:\n",
      "[[250   0]\n",
      " [  0 250]]\n",
      "Validation Accuracy: 1.0\n",
      "Validation F1 Score: 1.0\n"
     ]
    }
   ],
   "source": [
    "# Load the model from the original checkpoint file\n",
    "model = create_model(model_name, pretrained=False, num_classes=num_classes).to(device)\n",
    "model.load_state_dict(torch.load(\"sensor_pcap_classification/Classification_model/main_pcap_classification_model.pth\"))\n",
    "# Evaluation on the validation set\n",
    "model.eval()\n",
    "val_predictions = []\n",
    "val_targets = []\n",
    "\n",
    "with torch.no_grad():\n",
    "    for images, labels in val_loader:\n",
    "        images = images.to(device)\n",
    "        labels = labels.to(device)\n",
    "\n",
    "        outputs = model(images)\n",
    "        _, predicted = torch.max(outputs.data, 1)\n",
    "\n",
    "        val_predictions.extend(predicted.cpu().numpy())\n",
    "        val_targets.extend(labels.cpu().numpy())\n",
    "\n",
    "# Calculate validation accuracy\n",
    "val_accuracy = accuracy_score(val_targets, val_predictions)\n",
    "\n",
    "# Calculate F1 score\n",
    "val_f1 = f1_score(val_targets, val_predictions)\n",
    "\n",
    "# Calculate and print the confusion matrix\n",
    "confusion = confusion_matrix(val_targets, val_predictions)\n",
    "print(\"Confusion Matrix:\")\n",
    "print(confusion)\n",
    "print(\"Validation Accuracy:\", val_accuracy)\n",
    "print(\"Validation F1 Score:\", val_f1)\n"
   ]
  },
  {
   "cell_type": "markdown",
   "metadata": {
    "id": "2sA4D2rj0pxi"
   },
   "source": [
    "## Time for inference"
   ]
  },
  {
   "cell_type": "code",
   "execution_count": 17,
   "metadata": {
    "colab": {
     "base_uri": "https://localhost:8080/"
    },
    "id": "1_kVSXOk32hN",
    "outputId": "33f588bd-a017-4acd-88df-83375745222a"
   },
   "outputs": [
    {
     "name": "stdout",
     "output_type": "stream",
     "text": [
      "Confusion Matrix:\n",
      "[[250   0]\n",
      " [  0 250]]\n",
      "Validation Accuracy: 1.0\n",
      "Validation F1 Score: 1.0\n",
      "Average Inference Time per PCAP: 9.788703918457031e-05 seconds\n"
     ]
    }
   ],
   "source": [
    "import time\n",
    "import torch\n",
    "import torchvision.transforms as transforms\n",
    "from torch.utils.data import DataLoader\n",
    "from timm import create_model\n",
    "from PIL import Image\n",
    "import pandas as pd\n",
    "from sklearn.model_selection import train_test_split\n",
    "from sklearn.metrics import accuracy_score, f1_score, confusion_matrix  # Add these import statements\n",
    "\n",
    "# Define the model architecture and number of classes\n",
    "model_name = 'resnet18'\n",
    "num_classes = 2\n",
    "\n",
    "# Set the device for training\n",
    "device = torch.device(\"cuda\" if torch.cuda.is_available() else \"cpu\")\n",
    "\n",
    "# Load the model from the original checkpoint file\n",
    "model = create_model(model_name, pretrained=False, num_classes=num_classes).to(device)\n",
    "model.load_state_dict(torch.load(\"/content/drive/MyDrive/Team_international_internship/network_traffic_classifier_project/final_image_classifier/main_pcap_classification_model.pth\"))\n",
    "\n",
    "# Evaluation on the validation set\n",
    "model.eval()\n",
    "val_predictions = []\n",
    "val_targets = []\n",
    "total_inference_time = 0\n",
    "\n",
    "with torch.no_grad():\n",
    "    for images, labels in val_loader:\n",
    "        images = images.to(device)\n",
    "        labels = labels.to(device)\n",
    "\n",
    "        start_time = time.time()  # Start timing the inference\n",
    "        outputs = model(images)\n",
    "        _, predicted = torch.max(outputs.data, 1)\n",
    "        end_time = time.time()  # End timing the inference\n",
    "\n",
    "        total_inference_time += (end_time - start_time)\n",
    "\n",
    "        val_predictions.extend(predicted.cpu().numpy())\n",
    "        val_targets.extend(labels.cpu().numpy())\n",
    "\n",
    "# Calculate validation accuracy\n",
    "val_accuracy = accuracy_score(val_targets, val_predictions)\n",
    "\n",
    "# Calculate F1 score\n",
    "val_f1 = f1_score(val_targets, val_predictions)\n",
    "\n",
    "# Calculate and print the confusion matrix\n",
    "confusion = confusion_matrix(val_targets, val_predictions)\n",
    "print(\"Confusion Matrix:\")\n",
    "print(confusion)\n",
    "print(\"Validation Accuracy:\", val_accuracy)\n",
    "print(\"Validation F1 Score:\", val_f1)\n",
    "\n",
    "# Calculate average inference time per pcap\n",
    "num_pcaps = len(val_loader.dataset)  # Number of samples (pcaps) in the validation set\n",
    "average_inference_time_per_pcap = total_inference_time / num_pcaps\n",
    "print(\"Average Inference Time per PCAP:\", average_inference_time_per_pcap, \"seconds\")\n"
   ]
  }
 ],
 "metadata": {
  "accelerator": "GPU",
  "colab": {
   "gpuType": "T4",
   "machine_shape": "hm",
   "provenance": []
  },
  "kernelspec": {
   "display_name": "Python 3 (ipykernel)",
   "language": "python",
   "name": "python3"
  },
  "language_info": {
   "codemirror_mode": {
    "name": "ipython",
    "version": 3
   },
   "file_extension": ".py",
   "mimetype": "text/x-python",
   "name": "python",
   "nbconvert_exporter": "python",
   "pygments_lexer": "ipython3",
   "version": "3.9.12"
  },
  "widgets": {
   "application/vnd.jupyter.widget-state+json": {
    "1f4f5690c82f4ec49b5f308c30ae8f25": {
     "model_module": "@jupyter-widgets/controls",
     "model_module_version": "1.5.0",
     "model_name": "DescriptionStyleModel",
     "state": {
      "_model_module": "@jupyter-widgets/controls",
      "_model_module_version": "1.5.0",
      "_model_name": "DescriptionStyleModel",
      "_view_count": null,
      "_view_module": "@jupyter-widgets/base",
      "_view_module_version": "1.2.0",
      "_view_name": "StyleView",
      "description_width": ""
     }
    },
    "39b709a0f26b4525a48cd21e6a939989": {
     "model_module": "@jupyter-widgets/controls",
     "model_module_version": "1.5.0",
     "model_name": "DescriptionStyleModel",
     "state": {
      "_model_module": "@jupyter-widgets/controls",
      "_model_module_version": "1.5.0",
      "_model_name": "DescriptionStyleModel",
      "_view_count": null,
      "_view_module": "@jupyter-widgets/base",
      "_view_module_version": "1.2.0",
      "_view_name": "StyleView",
      "description_width": ""
     }
    },
    "3fd9f68f1cc0450a8af2386626ed4e1c": {
     "model_module": "@jupyter-widgets/base",
     "model_module_version": "1.2.0",
     "model_name": "LayoutModel",
     "state": {
      "_model_module": "@jupyter-widgets/base",
      "_model_module_version": "1.2.0",
      "_model_name": "LayoutModel",
      "_view_count": null,
      "_view_module": "@jupyter-widgets/base",
      "_view_module_version": "1.2.0",
      "_view_name": "LayoutView",
      "align_content": null,
      "align_items": null,
      "align_self": null,
      "border": null,
      "bottom": null,
      "display": null,
      "flex": null,
      "flex_flow": null,
      "grid_area": null,
      "grid_auto_columns": null,
      "grid_auto_flow": null,
      "grid_auto_rows": null,
      "grid_column": null,
      "grid_gap": null,
      "grid_row": null,
      "grid_template_areas": null,
      "grid_template_columns": null,
      "grid_template_rows": null,
      "height": null,
      "justify_content": null,
      "justify_items": null,
      "left": null,
      "margin": null,
      "max_height": null,
      "max_width": null,
      "min_height": null,
      "min_width": null,
      "object_fit": null,
      "object_position": null,
      "order": null,
      "overflow": null,
      "overflow_x": null,
      "overflow_y": null,
      "padding": null,
      "right": null,
      "top": null,
      "visibility": null,
      "width": null
     }
    },
    "48b9e535ad0d4723af66e0f3369b1fc3": {
     "model_module": "@jupyter-widgets/base",
     "model_module_version": "1.2.0",
     "model_name": "LayoutModel",
     "state": {
      "_model_module": "@jupyter-widgets/base",
      "_model_module_version": "1.2.0",
      "_model_name": "LayoutModel",
      "_view_count": null,
      "_view_module": "@jupyter-widgets/base",
      "_view_module_version": "1.2.0",
      "_view_name": "LayoutView",
      "align_content": null,
      "align_items": null,
      "align_self": null,
      "border": null,
      "bottom": null,
      "display": null,
      "flex": null,
      "flex_flow": null,
      "grid_area": null,
      "grid_auto_columns": null,
      "grid_auto_flow": null,
      "grid_auto_rows": null,
      "grid_column": null,
      "grid_gap": null,
      "grid_row": null,
      "grid_template_areas": null,
      "grid_template_columns": null,
      "grid_template_rows": null,
      "height": null,
      "justify_content": null,
      "justify_items": null,
      "left": null,
      "margin": null,
      "max_height": null,
      "max_width": null,
      "min_height": null,
      "min_width": null,
      "object_fit": null,
      "object_position": null,
      "order": null,
      "overflow": null,
      "overflow_x": null,
      "overflow_y": null,
      "padding": null,
      "right": null,
      "top": null,
      "visibility": null,
      "width": null
     }
    },
    "4aa61d41c6664916bfcf7d490e80d98c": {
     "model_module": "@jupyter-widgets/base",
     "model_module_version": "1.2.0",
     "model_name": "LayoutModel",
     "state": {
      "_model_module": "@jupyter-widgets/base",
      "_model_module_version": "1.2.0",
      "_model_name": "LayoutModel",
      "_view_count": null,
      "_view_module": "@jupyter-widgets/base",
      "_view_module_version": "1.2.0",
      "_view_name": "LayoutView",
      "align_content": null,
      "align_items": null,
      "align_self": null,
      "border": null,
      "bottom": null,
      "display": null,
      "flex": null,
      "flex_flow": null,
      "grid_area": null,
      "grid_auto_columns": null,
      "grid_auto_flow": null,
      "grid_auto_rows": null,
      "grid_column": null,
      "grid_gap": null,
      "grid_row": null,
      "grid_template_areas": null,
      "grid_template_columns": null,
      "grid_template_rows": null,
      "height": null,
      "justify_content": null,
      "justify_items": null,
      "left": null,
      "margin": null,
      "max_height": null,
      "max_width": null,
      "min_height": null,
      "min_width": null,
      "object_fit": null,
      "object_position": null,
      "order": null,
      "overflow": null,
      "overflow_x": null,
      "overflow_y": null,
      "padding": null,
      "right": null,
      "top": null,
      "visibility": null,
      "width": null
     }
    },
    "5e1e9582ffd1438ba11cee280b8ee948": {
     "model_module": "@jupyter-widgets/controls",
     "model_module_version": "1.5.0",
     "model_name": "HTMLModel",
     "state": {
      "_dom_classes": [],
      "_model_module": "@jupyter-widgets/controls",
      "_model_module_version": "1.5.0",
      "_model_name": "HTMLModel",
      "_view_count": null,
      "_view_module": "@jupyter-widgets/controls",
      "_view_module_version": "1.5.0",
      "_view_name": "HTMLView",
      "description": "",
      "description_tooltip": null,
      "layout": "IPY_MODEL_4aa61d41c6664916bfcf7d490e80d98c",
      "placeholder": "​",
      "style": "IPY_MODEL_1f4f5690c82f4ec49b5f308c30ae8f25",
      "value": "Downloading model.safetensors: 100%"
     }
    },
    "833c65752bec4facbc9d314758158c41": {
     "model_module": "@jupyter-widgets/controls",
     "model_module_version": "1.5.0",
     "model_name": "HBoxModel",
     "state": {
      "_dom_classes": [],
      "_model_module": "@jupyter-widgets/controls",
      "_model_module_version": "1.5.0",
      "_model_name": "HBoxModel",
      "_view_count": null,
      "_view_module": "@jupyter-widgets/controls",
      "_view_module_version": "1.5.0",
      "_view_name": "HBoxView",
      "box_style": "",
      "children": [
       "IPY_MODEL_5e1e9582ffd1438ba11cee280b8ee948",
       "IPY_MODEL_ca42de3efdb9414b888c8b2676ff7248",
       "IPY_MODEL_e41884a7af124acf9b541681b2e0ba2e"
      ],
      "layout": "IPY_MODEL_3fd9f68f1cc0450a8af2386626ed4e1c"
     }
    },
    "ab060ab1fc97403a819033f36888886b": {
     "model_module": "@jupyter-widgets/controls",
     "model_module_version": "1.5.0",
     "model_name": "ProgressStyleModel",
     "state": {
      "_model_module": "@jupyter-widgets/controls",
      "_model_module_version": "1.5.0",
      "_model_name": "ProgressStyleModel",
      "_view_count": null,
      "_view_module": "@jupyter-widgets/base",
      "_view_module_version": "1.2.0",
      "_view_name": "StyleView",
      "bar_color": null,
      "description_width": ""
     }
    },
    "ca42de3efdb9414b888c8b2676ff7248": {
     "model_module": "@jupyter-widgets/controls",
     "model_module_version": "1.5.0",
     "model_name": "FloatProgressModel",
     "state": {
      "_dom_classes": [],
      "_model_module": "@jupyter-widgets/controls",
      "_model_module_version": "1.5.0",
      "_model_name": "FloatProgressModel",
      "_view_count": null,
      "_view_module": "@jupyter-widgets/controls",
      "_view_module_version": "1.5.0",
      "_view_name": "ProgressView",
      "bar_style": "success",
      "description": "",
      "description_tooltip": null,
      "layout": "IPY_MODEL_48b9e535ad0d4723af66e0f3369b1fc3",
      "max": 46807446,
      "min": 0,
      "orientation": "horizontal",
      "style": "IPY_MODEL_ab060ab1fc97403a819033f36888886b",
      "value": 46807446
     }
    },
    "e41884a7af124acf9b541681b2e0ba2e": {
     "model_module": "@jupyter-widgets/controls",
     "model_module_version": "1.5.0",
     "model_name": "HTMLModel",
     "state": {
      "_dom_classes": [],
      "_model_module": "@jupyter-widgets/controls",
      "_model_module_version": "1.5.0",
      "_model_name": "HTMLModel",
      "_view_count": null,
      "_view_module": "@jupyter-widgets/controls",
      "_view_module_version": "1.5.0",
      "_view_name": "HTMLView",
      "description": "",
      "description_tooltip": null,
      "layout": "IPY_MODEL_ec77487e865944d9aaa117f2dd673a6d",
      "placeholder": "​",
      "style": "IPY_MODEL_39b709a0f26b4525a48cd21e6a939989",
      "value": " 46.8M/46.8M [00:00&lt;00:00, 262MB/s]"
     }
    },
    "ec77487e865944d9aaa117f2dd673a6d": {
     "model_module": "@jupyter-widgets/base",
     "model_module_version": "1.2.0",
     "model_name": "LayoutModel",
     "state": {
      "_model_module": "@jupyter-widgets/base",
      "_model_module_version": "1.2.0",
      "_model_name": "LayoutModel",
      "_view_count": null,
      "_view_module": "@jupyter-widgets/base",
      "_view_module_version": "1.2.0",
      "_view_name": "LayoutView",
      "align_content": null,
      "align_items": null,
      "align_self": null,
      "border": null,
      "bottom": null,
      "display": null,
      "flex": null,
      "flex_flow": null,
      "grid_area": null,
      "grid_auto_columns": null,
      "grid_auto_flow": null,
      "grid_auto_rows": null,
      "grid_column": null,
      "grid_gap": null,
      "grid_row": null,
      "grid_template_areas": null,
      "grid_template_columns": null,
      "grid_template_rows": null,
      "height": null,
      "justify_content": null,
      "justify_items": null,
      "left": null,
      "margin": null,
      "max_height": null,
      "max_width": null,
      "min_height": null,
      "min_width": null,
      "object_fit": null,
      "object_position": null,
      "order": null,
      "overflow": null,
      "overflow_x": null,
      "overflow_y": null,
      "padding": null,
      "right": null,
      "top": null,
      "visibility": null,
      "width": null
     }
    }
   }
  }
 },
 "nbformat": 4,
 "nbformat_minor": 4
}
